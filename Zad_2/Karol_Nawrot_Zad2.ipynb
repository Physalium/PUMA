{
 "metadata": {
  "language_info": {
   "codemirror_mode": {
    "name": "ipython",
    "version": 3
   },
   "file_extension": ".py",
   "mimetype": "text/x-python",
   "name": "python",
   "nbconvert_exporter": "python",
   "pygments_lexer": "ipython3",
   "version": "3.9.2"
  },
  "orig_nbformat": 2,
  "kernelspec": {
   "name": "python392jvsc74a57bd0ac59ebe37160ed0dfa835113d9b8498d9f09ceb179beaac4002f036b9467c963",
   "display_name": "Python 3.9.2 64-bit"
  },
  "metadata": {
   "interpreter": {
    "hash": "ac59ebe37160ed0dfa835113d9b8498d9f09ceb179beaac4002f036b9467c963"
   }
  }
 },
 "nbformat": 4,
 "nbformat_minor": 2,
 "cells": [
  {
   "cell_type": "code",
   "execution_count": null,
   "metadata": {},
   "outputs": [],
   "source": [
    "from PIL import Image\n",
    "import numpy as np\n",
    "import matplotlib.pyplot as plt\n",
    "from sklearn.cluster import KMeans\n",
    "from sklearn.decomposition import PCA\n",
    "    "
   ]
  },
  {
   "source": [
    "Wczytujemy obraz spring.png za pomocą Pillow"
   ],
   "cell_type": "markdown",
   "metadata": {}
  },
  {
   "cell_type": "code",
   "execution_count": null,
   "metadata": {},
   "outputs": [],
   "source": [
    "im= Image.open(\"spring.png\")\n",
    "X=np.array(im.getdata())\n",
    "print(X.shape)\n",
    "\n"
   ]
  },
  {
   "source": [
    "Rozkład kolorów w obrazie przed klasteryzacją"
   ],
   "cell_type": "markdown",
   "metadata": {}
  },
  {
   "cell_type": "code",
   "execution_count": null,
   "metadata": {},
   "outputs": [],
   "source": [
    "fig = plt.figure(figsize=(10,10))\n",
    "axis = fig.add_subplot(1, 1, 1, projection=\"3d\")\n",
    "r, g, b = X[:,0], X[:,1], X[:,2]\n",
    "axis.scatter(r, g, b, c=X/255.0, marker=\"o\",s=1)\n",
    "axis.set_xlabel(\"Red\")\n",
    "axis.set_ylabel(\"Green\")\n",
    "axis.set_zlabel(\"Blue\")\n",
    "axis.set_title(\"Wartości RGB\")\n",
    "plt.show()\n",
    "\n"
   ]
  },
  {
   "source": [
    "Klasteryzacja danych - rysujemy wykres wartości inercji dla poszczególnej ilości klastrów"
   ],
   "cell_type": "markdown",
   "metadata": {}
  },
  {
   "cell_type": "code",
   "execution_count": null,
   "metadata": {},
   "outputs": [],
   "source": [
    "import matplotlib.ticker as plticker\n",
    "\n",
    "inertia_measures = np.empty(0)\n",
    "arguments = np.arange(1, 17, 1)\n",
    "for j in range(1, 17):\n",
    "    clustering = KMeans(n_clusters=j, init='k-means++',\n",
    "                        max_iter=100, random_state=1)\n",
    "    clustering.fit(X)\n",
    "    inertia_measures =np.append(inertia_measures, clustering.inertia_)\n",
    "\n",
    "inertia_measures=inertia_measures/10**8\n",
    "fig, ax = plt.subplots()\n",
    "ax.plot(arguments, inertia_measures, marker='o')\n",
    "ax.set_xlabel('Liczba klastrów')\n",
    "ax.set_ylabel('Wartość inercji ^8')\n",
    "ax.set_title(\"Wykres wartości inercji\")\n",
    "loc = plticker.MultipleLocator(base=1.0)\n",
    "ax.xaxis.set_major_locator(loc)\n",
    "plt.show()"
   ]
  },
  {
   "source": [
    "Szukamy pierwszej wartości będącej poniżej limitu 3x10^8"
   ],
   "cell_type": "markdown",
   "metadata": {}
  },
  {
   "cell_type": "code",
   "execution_count": null,
   "metadata": {},
   "outputs": [],
   "source": [
    "bestIndex=np.where(inertia_measures<3)[0][0]+1\n",
    "print(f\"Najmniejsza ilośc klastów dla której wartość inercji jest mniejsza niż 3x10^8: {bestIndex}\")"
   ]
  },
  {
   "source": [
    "Obliczamy współrzędne centroidów dla najlepszego k równego 12"
   ],
   "cell_type": "markdown",
   "metadata": {}
  },
  {
   "cell_type": "code",
   "execution_count": null,
   "metadata": {},
   "outputs": [],
   "source": [
    "\n",
    "clustering = KMeans(n_clusters=bestIndex, init='k-means++',\n",
    "                        max_iter=100, random_state=1).fit(X)\n",
    "\n",
    "# Przypisujemy środki ciężkości do zmiennych\n",
    "centroids = clustering.cluster_centers_\n",
    "#Zobaczmy jak wyglądają środki ciężkości\n",
    "centroids\n"
   ]
  },
  {
   "source": [
    "Zaokrąglamy środki ciężkości do najbliższej liczby całkowitej"
   ],
   "cell_type": "markdown",
   "metadata": {}
  },
  {
   "cell_type": "code",
   "execution_count": null,
   "metadata": {},
   "outputs": [],
   "source": [
    "centroids_rounded = [[round(cord) for cord in rgb_centers] for rgb_centers in centroids]\n",
    "centroids_rounded = np.array(centroids_rounded)\n",
    "centroids_rounded "
   ]
  },
  {
   "source": [
    "Grupujemy piksele korzystając z zaokrąglonych punktów ciężkości\n"
   ],
   "cell_type": "markdown",
   "metadata": {}
  },
  {
   "cell_type": "code",
   "execution_count": null,
   "metadata": {},
   "outputs": [],
   "source": [
    "\n",
    "clustering_rounded = KMeans(n_clusters=bestIndex,init=centroids_rounded,\n",
    "                        max_iter=100,n_init=1).fit(X)\n",
    "#Pobieramy przypisane piksele\n",
    "assigments= np.array(clustering_rounded.labels_)\n",
    "\n"
   ]
  },
  {
   "source": [
    "Mapujemy tablicę mapowań do centroidów na tablicę RGB i tworzymy z niej nowy obraz"
   ],
   "cell_type": "markdown",
   "metadata": {}
  },
  {
   "cell_type": "code",
   "execution_count": null,
   "metadata": {},
   "outputs": [],
   "source": [
    "pixel_array=[tuple(centroids_rounded[index]) for index in assigments]\n",
    "\n",
    "\n",
    "\n",
    "image_after_kmeans=Image.new(\"RGB\",(750,482))\n",
    "image_after_kmeans.putdata(pixel_array)\n",
    "image_after_kmeans.save(\"springAfterKMeans.png\")\n",
    "image_after_kmeans.show()\n",
    "\n",
    "\n"
   ]
  },
  {
   "source": [
    "Wypisujemy łączny procent wyjaśnionej przez PCA wariancji"
   ],
   "cell_type": "markdown",
   "metadata": {}
  },
  {
   "cell_type": "code",
   "execution_count": null,
   "metadata": {},
   "outputs": [],
   "source": [
    "\n",
    "pca = PCA(n_components=2)\n",
    "X_pca = pca.fit_transform(X)\n",
    "np.sum(pca.explained_variance_ratio_)"
   ]
  },
  {
   "cell_type": "code",
   "execution_count": null,
   "metadata": {},
   "outputs": [],
   "source": [
    "y_kmeans_PCA = clustering.fit_predict(X_pca) \n",
    "y_kmeans_PCA"
   ]
  },
  {
   "cell_type": "code",
   "execution_count": null,
   "metadata": {},
   "outputs": [],
   "source": [
    "colors = [tuple(c/255 for c in color) for color in centroids] #skalowanie RGB do przedzialu 0-1\n",
    "clusters = np.arange(0, len(colors), 1)"
   ]
  },
  {
   "source": [
    "Rysujemy wykres punktowy z legendą"
   ],
   "cell_type": "markdown",
   "metadata": {}
  },
  {
   "cell_type": "code",
   "execution_count": null,
   "metadata": {},
   "outputs": [],
   "source": [
    "fig, ax = plt.subplots()\n",
    "cmap=plt.get_cmap('Paired')\n",
    "for color, i in zip(colors, clusters):\n",
    "    plt.scatter(X_pca[y_kmeans_PCA == i, 0],\n",
    "                X_pca[y_kmeans_PCA == i, 1],\n",
    "                color=color,\n",
    "                label = i,  # label oznaczający kolor klastra\n",
    "                cmap=cmap)\n",
    "plt.title(\"Wykres punktowy obrazu po PCA\")\n",
    "plt.legend(loc='upper center', bbox_to_anchor=(0.5, -0.1), # legenda która nie będzie zasłaniać wykresu\n",
    "          fancybox=True, shadow=True, ncol=5)\n",
    "plt.show()"
   ]
  },
  {
   "cell_type": "code",
   "execution_count": null,
   "metadata": {},
   "outputs": [],
   "source": []
  }
 ]
}